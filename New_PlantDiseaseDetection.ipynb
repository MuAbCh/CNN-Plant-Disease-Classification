{
  "cells": [
    {
      "cell_type": "code",
      "execution_count": null,
      "metadata": {
        "id": "BO59746Sd9e4"
      },
      "outputs": [],
      "source": [
        "import numpy as np\n",
        "import time\n",
        "import torch\n",
        "import torch.nn as nn\n",
        "import torch.nn.functional as F\n",
        "import torch.optim as optim\n",
        "import torchvision\n",
        "from torch.utils.data.sampler import SubsetRandomSampler\n",
        "import torchvision.transforms as transforms\n",
        "import os\n",
        "import torch\n",
        "import torch.utils.data as data\n",
        "from torchvision import datasets, models, transforms\n",
        "from sklearn.model_selection import train_test_split\n",
        "import zipfile\n",
        "import shutil\n",
        "import matplotlib.pyplot as plt\n",
        "import random\n",
        "from collections import OrderedDict\n",
        "from torch.autograd import Variable\n",
        "from PIL import Image\n",
        "from torch.optim import lr_scheduler\n",
        "import copy\n",
        "from os.path import exists"
      ]
    },
    {
      "cell_type": "code",
      "execution_count": null,
      "metadata": {
        "colab": {
          "base_uri": "https://localhost:8080/",
          "height": 345
        },
        "id": "b7yBm4g3HgH9",
        "outputId": "61074c85-98bf-4123-b54c-e92aef665d8b"
      },
      "outputs": [
        {
          "output_type": "error",
          "ename": "KeyboardInterrupt",
          "evalue": "ignored",
          "traceback": [
            "\u001b[0;31m---------------------------------------------------------------------------\u001b[0m",
            "\u001b[0;31mKeyboardInterrupt\u001b[0m                         Traceback (most recent call last)",
            "\u001b[0;32m<ipython-input-5-f4c62cfd2e51>\u001b[0m in \u001b[0;36m<cell line: 3>\u001b[0;34m()\u001b[0m\n\u001b[1;32m      1\u001b[0m \u001b[0;31m# mount the Google Drive\u001b[0m\u001b[0;34m\u001b[0m\u001b[0;34m\u001b[0m\u001b[0m\n\u001b[1;32m      2\u001b[0m \u001b[0;32mfrom\u001b[0m \u001b[0mgoogle\u001b[0m\u001b[0;34m.\u001b[0m\u001b[0mcolab\u001b[0m \u001b[0;32mimport\u001b[0m \u001b[0mdrive\u001b[0m\u001b[0;34m\u001b[0m\u001b[0;34m\u001b[0m\u001b[0m\n\u001b[0;32m----> 3\u001b[0;31m \u001b[0mdrive\u001b[0m\u001b[0;34m.\u001b[0m\u001b[0mmount\u001b[0m\u001b[0;34m(\u001b[0m\u001b[0;34m'/content/drive/'\u001b[0m\u001b[0;34m)\u001b[0m\u001b[0;34m\u001b[0m\u001b[0;34m\u001b[0m\u001b[0m\n\u001b[0m",
            "\u001b[0;32m/usr/local/lib/python3.10/dist-packages/google/colab/drive.py\u001b[0m in \u001b[0;36mmount\u001b[0;34m(mountpoint, force_remount, timeout_ms, readonly)\u001b[0m\n\u001b[1;32m    101\u001b[0m \u001b[0;32mdef\u001b[0m \u001b[0mmount\u001b[0m\u001b[0;34m(\u001b[0m\u001b[0mmountpoint\u001b[0m\u001b[0;34m,\u001b[0m \u001b[0mforce_remount\u001b[0m\u001b[0;34m=\u001b[0m\u001b[0;32mFalse\u001b[0m\u001b[0;34m,\u001b[0m \u001b[0mtimeout_ms\u001b[0m\u001b[0;34m=\u001b[0m\u001b[0;36m120000\u001b[0m\u001b[0;34m,\u001b[0m \u001b[0mreadonly\u001b[0m\u001b[0;34m=\u001b[0m\u001b[0;32mFalse\u001b[0m\u001b[0;34m)\u001b[0m\u001b[0;34m:\u001b[0m\u001b[0;34m\u001b[0m\u001b[0;34m\u001b[0m\u001b[0m\n\u001b[1;32m    102\u001b[0m   \u001b[0;34m\"\"\"Mount your Google Drive at the specified mountpoint path.\"\"\"\u001b[0m\u001b[0;34m\u001b[0m\u001b[0;34m\u001b[0m\u001b[0m\n\u001b[0;32m--> 103\u001b[0;31m   return _mount(\n\u001b[0m\u001b[1;32m    104\u001b[0m       \u001b[0mmountpoint\u001b[0m\u001b[0;34m,\u001b[0m\u001b[0;34m\u001b[0m\u001b[0;34m\u001b[0m\u001b[0m\n\u001b[1;32m    105\u001b[0m       \u001b[0mforce_remount\u001b[0m\u001b[0;34m=\u001b[0m\u001b[0mforce_remount\u001b[0m\u001b[0;34m,\u001b[0m\u001b[0;34m\u001b[0m\u001b[0;34m\u001b[0m\u001b[0m\n",
            "\u001b[0;32m/usr/local/lib/python3.10/dist-packages/google/colab/drive.py\u001b[0m in \u001b[0;36m_mount\u001b[0;34m(mountpoint, force_remount, timeout_ms, ephemeral, readonly)\u001b[0m\n\u001b[1;32m    130\u001b[0m   )\n\u001b[1;32m    131\u001b[0m   \u001b[0;32mif\u001b[0m \u001b[0mephemeral\u001b[0m\u001b[0;34m:\u001b[0m\u001b[0;34m\u001b[0m\u001b[0;34m\u001b[0m\u001b[0m\n\u001b[0;32m--> 132\u001b[0;31m     _message.blocking_request(\n\u001b[0m\u001b[1;32m    133\u001b[0m         \u001b[0;34m'request_auth'\u001b[0m\u001b[0;34m,\u001b[0m \u001b[0mrequest\u001b[0m\u001b[0;34m=\u001b[0m\u001b[0;34m{\u001b[0m\u001b[0;34m'authType'\u001b[0m\u001b[0;34m:\u001b[0m \u001b[0;34m'dfs_ephemeral'\u001b[0m\u001b[0;34m}\u001b[0m\u001b[0;34m,\u001b[0m \u001b[0mtimeout_sec\u001b[0m\u001b[0;34m=\u001b[0m\u001b[0;32mNone\u001b[0m\u001b[0;34m\u001b[0m\u001b[0;34m\u001b[0m\u001b[0m\n\u001b[1;32m    134\u001b[0m     )\n",
            "\u001b[0;32m/usr/local/lib/python3.10/dist-packages/google/colab/_message.py\u001b[0m in \u001b[0;36mblocking_request\u001b[0;34m(request_type, request, timeout_sec, parent)\u001b[0m\n\u001b[1;32m    174\u001b[0m       \u001b[0mrequest_type\u001b[0m\u001b[0;34m,\u001b[0m \u001b[0mrequest\u001b[0m\u001b[0;34m,\u001b[0m \u001b[0mparent\u001b[0m\u001b[0;34m=\u001b[0m\u001b[0mparent\u001b[0m\u001b[0;34m,\u001b[0m \u001b[0mexpect_reply\u001b[0m\u001b[0;34m=\u001b[0m\u001b[0;32mTrue\u001b[0m\u001b[0;34m\u001b[0m\u001b[0;34m\u001b[0m\u001b[0m\n\u001b[1;32m    175\u001b[0m   )\n\u001b[0;32m--> 176\u001b[0;31m   \u001b[0;32mreturn\u001b[0m \u001b[0mread_reply_from_input\u001b[0m\u001b[0;34m(\u001b[0m\u001b[0mrequest_id\u001b[0m\u001b[0;34m,\u001b[0m \u001b[0mtimeout_sec\u001b[0m\u001b[0;34m)\u001b[0m\u001b[0;34m\u001b[0m\u001b[0;34m\u001b[0m\u001b[0m\n\u001b[0m",
            "\u001b[0;32m/usr/local/lib/python3.10/dist-packages/google/colab/_message.py\u001b[0m in \u001b[0;36mread_reply_from_input\u001b[0;34m(message_id, timeout_sec)\u001b[0m\n\u001b[1;32m     94\u001b[0m     \u001b[0mreply\u001b[0m \u001b[0;34m=\u001b[0m \u001b[0m_read_next_input_message\u001b[0m\u001b[0;34m(\u001b[0m\u001b[0;34m)\u001b[0m\u001b[0;34m\u001b[0m\u001b[0;34m\u001b[0m\u001b[0m\n\u001b[1;32m     95\u001b[0m     \u001b[0;32mif\u001b[0m \u001b[0mreply\u001b[0m \u001b[0;34m==\u001b[0m \u001b[0m_NOT_READY\u001b[0m \u001b[0;32mor\u001b[0m \u001b[0;32mnot\u001b[0m \u001b[0misinstance\u001b[0m\u001b[0;34m(\u001b[0m\u001b[0mreply\u001b[0m\u001b[0;34m,\u001b[0m \u001b[0mdict\u001b[0m\u001b[0;34m)\u001b[0m\u001b[0;34m:\u001b[0m\u001b[0;34m\u001b[0m\u001b[0;34m\u001b[0m\u001b[0m\n\u001b[0;32m---> 96\u001b[0;31m       \u001b[0mtime\u001b[0m\u001b[0;34m.\u001b[0m\u001b[0msleep\u001b[0m\u001b[0;34m(\u001b[0m\u001b[0;36m0.025\u001b[0m\u001b[0;34m)\u001b[0m\u001b[0;34m\u001b[0m\u001b[0;34m\u001b[0m\u001b[0m\n\u001b[0m\u001b[1;32m     97\u001b[0m       \u001b[0;32mcontinue\u001b[0m\u001b[0;34m\u001b[0m\u001b[0;34m\u001b[0m\u001b[0m\n\u001b[1;32m     98\u001b[0m     if (\n",
            "\u001b[0;31mKeyboardInterrupt\u001b[0m: "
          ]
        }
      ],
      "source": [
        "# mount the Google Drive\n",
        "from google.colab import drive\n",
        "drive.mount('/content/drive/')"
      ]
    },
    {
      "cell_type": "code",
      "execution_count": null,
      "metadata": {
        "id": "6iXYFMl0HlF2",
        "colab": {
          "base_uri": "https://localhost:8080/",
          "height": 321
        },
        "outputId": "0e3c251d-7739-4722-a9db-5bb3b26ca2ef"
      },
      "outputs": [
        {
          "output_type": "error",
          "ename": "FileNotFoundError",
          "evalue": "ignored",
          "traceback": [
            "\u001b[0;31m---------------------------------------------------------------------------\u001b[0m",
            "\u001b[0;31mFileNotFoundError\u001b[0m                         Traceback (most recent call last)",
            "\u001b[0;32m<ipython-input-4-101381bb43a0>\u001b[0m in \u001b[0;36m<cell line: 2>\u001b[0;34m()\u001b[0m\n\u001b[1;32m      1\u001b[0m \u001b[0mzipfile_path\u001b[0m \u001b[0;34m=\u001b[0m \u001b[0;34m'/content/drive/MyDrive/plantdiseasesdataset.zip'\u001b[0m\u001b[0;34m\u001b[0m\u001b[0;34m\u001b[0m\u001b[0m\n\u001b[0;32m----> 2\u001b[0;31m \u001b[0;32mwith\u001b[0m \u001b[0mzipfile\u001b[0m\u001b[0;34m.\u001b[0m\u001b[0mZipFile\u001b[0m\u001b[0;34m(\u001b[0m\u001b[0mzipfile_path\u001b[0m\u001b[0;34m,\u001b[0m\u001b[0;34m'r'\u001b[0m\u001b[0;34m)\u001b[0m \u001b[0;32mas\u001b[0m \u001b[0mf\u001b[0m\u001b[0;34m:\u001b[0m\u001b[0;34m\u001b[0m\u001b[0;34m\u001b[0m\u001b[0m\n\u001b[0m\u001b[1;32m      3\u001b[0m   \u001b[0mf\u001b[0m\u001b[0;34m.\u001b[0m\u001b[0mextractall\u001b[0m\u001b[0;34m(\u001b[0m\u001b[0;34m'.'\u001b[0m\u001b[0;34m)\u001b[0m\u001b[0;34m\u001b[0m\u001b[0;34m\u001b[0m\u001b[0m\n",
            "\u001b[0;32m/usr/lib/python3.10/zipfile.py\u001b[0m in \u001b[0;36m__init__\u001b[0;34m(self, file, mode, compression, allowZip64, compresslevel, strict_timestamps)\u001b[0m\n\u001b[1;32m   1249\u001b[0m             \u001b[0;32mwhile\u001b[0m \u001b[0;32mTrue\u001b[0m\u001b[0;34m:\u001b[0m\u001b[0;34m\u001b[0m\u001b[0;34m\u001b[0m\u001b[0m\n\u001b[1;32m   1250\u001b[0m                 \u001b[0;32mtry\u001b[0m\u001b[0;34m:\u001b[0m\u001b[0;34m\u001b[0m\u001b[0;34m\u001b[0m\u001b[0m\n\u001b[0;32m-> 1251\u001b[0;31m                     \u001b[0mself\u001b[0m\u001b[0;34m.\u001b[0m\u001b[0mfp\u001b[0m \u001b[0;34m=\u001b[0m \u001b[0mio\u001b[0m\u001b[0;34m.\u001b[0m\u001b[0mopen\u001b[0m\u001b[0;34m(\u001b[0m\u001b[0mfile\u001b[0m\u001b[0;34m,\u001b[0m \u001b[0mfilemode\u001b[0m\u001b[0;34m)\u001b[0m\u001b[0;34m\u001b[0m\u001b[0;34m\u001b[0m\u001b[0m\n\u001b[0m\u001b[1;32m   1252\u001b[0m                 \u001b[0;32mexcept\u001b[0m \u001b[0mOSError\u001b[0m\u001b[0;34m:\u001b[0m\u001b[0;34m\u001b[0m\u001b[0;34m\u001b[0m\u001b[0m\n\u001b[1;32m   1253\u001b[0m                     \u001b[0;32mif\u001b[0m \u001b[0mfilemode\u001b[0m \u001b[0;32min\u001b[0m \u001b[0mmodeDict\u001b[0m\u001b[0;34m:\u001b[0m\u001b[0;34m\u001b[0m\u001b[0;34m\u001b[0m\u001b[0m\n",
            "\u001b[0;31mFileNotFoundError\u001b[0m: [Errno 2] No such file or directory: '/content/drive/MyDrive/plantdiseasesdataset.zip'"
          ]
        }
      ],
      "source": [
        "zipfile_path = '/content/drive/MyDrive/plantdiseasesdataset.zip'\n",
        "with zipfile.ZipFile(zipfile_path,'r') as f:\n",
        "  f.extractall('.')"
      ]
    },
    {
      "cell_type": "code",
      "execution_count": null,
      "metadata": {
        "colab": {
          "base_uri": "https://localhost:8080/"
        },
        "id": "oAOyRTM4Hm4a",
        "outputId": "3b14ad5a-5e6f-444b-d668-3d711f3851a3"
      },
      "outputs": [
        {
          "output_type": "stream",
          "name": "stdout",
          "text": [
            "Classes in train directory:  ['Squash___Powdery_mildew', 'Corn_(maize)___healthy', 'Potato___Late_blight', 'Tomato___healthy', 'Pepper,_bell___healthy', 'Tomato___Bacterial_spot', 'Tomato___Spider_mites Two-spotted_spider_mite', 'Cherry_(including_sour)___healthy', 'Strawberry___Leaf_scorch', 'Blueberry___healthy', 'Strawberry___healthy', 'Corn_(maize)___Common_rust_', 'Tomato___Tomato_mosaic_virus', 'Tomato___Early_blight', 'Peach___healthy', 'Grape___Esca_(Black_Measles)', 'Potato___healthy', 'Cherry_(including_sour)___Powdery_mildew', 'Tomato___Leaf_Mold', 'Grape___Black_rot', 'Potato___Early_blight', 'Tomato___Late_blight', 'Grape___healthy', 'Corn_(maize)___Northern_Leaf_Blight', 'Tomato___Target_Spot', 'Tomato___Septoria_leaf_spot', 'Soybean___healthy', 'Apple___healthy', 'Apple___Apple_scab', 'Apple___Cedar_apple_rust', 'Apple___Black_rot', 'Corn_(maize)___Cercospora_leaf_spot Gray_leaf_spot', 'Peach___Bacterial_spot', 'Raspberry___healthy', 'Grape___Leaf_blight_(Isariopsis_Leaf_Spot)', 'Tomato___Tomato_Yellow_Leaf_Curl_Virus', 'Orange___Haunglongbing_(Citrus_greening)', 'Pepper,_bell___Bacterial_spot']\n",
            "Classes in validation directory:  ['Squash___Powdery_mildew', 'Corn_(maize)___healthy', 'Potato___Late_blight', 'Tomato___healthy', 'Pepper,_bell___healthy', 'Tomato___Bacterial_spot', 'Tomato___Spider_mites Two-spotted_spider_mite', 'Cherry_(including_sour)___healthy', 'Strawberry___Leaf_scorch', 'Blueberry___healthy', 'Strawberry___healthy', 'Corn_(maize)___Common_rust_', 'Tomato___Tomato_mosaic_virus', 'Tomato___Early_blight', 'Peach___healthy', 'Grape___Esca_(Black_Measles)', 'Potato___healthy', 'Cherry_(including_sour)___Powdery_mildew', 'Tomato___Leaf_Mold', 'Grape___Black_rot', 'Potato___Early_blight', 'Tomato___Late_blight', 'Grape___healthy', 'Corn_(maize)___Northern_Leaf_Blight', 'Tomato___Target_Spot', 'Tomato___Septoria_leaf_spot', 'Soybean___healthy', 'Apple___healthy', 'Apple___Apple_scab', 'Apple___Cedar_apple_rust', 'Apple___Black_rot', 'Corn_(maize)___Cercospora_leaf_spot Gray_leaf_spot', 'Peach___Bacterial_spot', 'Raspberry___healthy', 'Grape___Leaf_blight_(Isariopsis_Leaf_Spot)', 'Tomato___Tomato_Yellow_Leaf_Curl_Virus', 'Orange___Haunglongbing_(Citrus_greening)', 'Pepper,_bell___Bacterial_spot']\n"
          ]
        }
      ],
      "source": [
        "np.random.seed(41) # setting the random seed to be able to reproduce results\n",
        "\n",
        "\n",
        "train_dir = '/content/New Plant Diseases Dataset(Augmented)/New Plant Diseases Dataset(Augmented)/train'\n",
        "validation_dir = '/content/New Plant Diseases Dataset(Augmented)/New Plant Diseases Dataset(Augmented)/valid'\n",
        "test_dir = '/content/test'\n",
        "\n",
        "# Verify that each directory contains the correct classes\n",
        "train_classes = os.listdir(train_dir)\n",
        "validation_classes = os.listdir(validation_dir)\n",
        "print('Classes in train directory: ', train_classes)\n",
        "print('Classes in validation directory: ', validation_classes)\n",
        "\n",
        "\n",
        "def three_data_augmentations_function(image): # ADD GREY BLOCK, APPLY RANDOM OR CENTER CROP, OR NONE\n",
        "    rand_num1 = round(random.random(), 3)\n",
        "    if (rand_num1 < 0.05): # ADD GREY BLOCK\n",
        "        block_size = 50    # Adjust the block size as desired\n",
        "        height, width = image.size[1], image.size[0]\n",
        "        x = torch.randint(0, width - block_size, (1,))\n",
        "        y = torch.randint(0, height - block_size, (1,))\n",
        "\n",
        "        # Apply paste operation on the input image\n",
        "        image.paste((128, 128, 128), (x.item(), y.item(), x.item() + block_size, y.item() + block_size))\n",
        "        return image\n",
        "\n",
        "    elif (0.05 <= rand_num1 < 0.1):  # APPLY RANDOM CROP\n",
        "        return transforms.RandomCrop(size=180)(image)\n",
        "\n",
        "    elif (0.1 <= rand_num1 < 0.15):  # APPLY CENTER CROP\n",
        "        return transforms.CenterCrop(size=180)(image)\n",
        "    return image\n",
        "\n",
        "# Define the transformation to add Gaussian noise\n",
        "def add_gaussian_noise(image):\n",
        "    mean = 0.0\n",
        "    std = 0.9  # Adjust the standard deviation as desired\n",
        "    rand_num2 = round(random.random(), 3)\n",
        "    if rand_num2 < 0.05:\n",
        "      noise = torch.randn_like(image) * std + mean\n",
        "      noisy_image = torch.clamp(image + noise, min=0.0, max=1.0)\n",
        "      return noisy_image\n",
        "    return image\n",
        "\n",
        "# Define the transformations to be applied to the images\n",
        "data_transforms = {\n",
        "    'train': transforms.Compose([\n",
        "        transforms.Lambda(three_data_augmentations_function),\n",
        "        transforms.Resize(256),\n",
        "        transforms.ToTensor(),\n",
        "        transforms.Normalize([0.485, 0.456, 0.406], [0.229, 0.224, 0.225]),\n",
        "        transforms.Lambda(add_gaussian_noise),\n",
        "\n",
        "        # Add other transformations if desired\n",
        "        # transforms.RandomResizedCrop(224),\n",
        "        # transforms.ColorJitter(brightness=0.4, contrast=0.4, saturation=0.4),\n",
        "        # transforms.RandomHorizontalFlip(),\n",
        "        # transforms.RandomRotation(30),\n",
        "    ]),\n",
        "    'valid': transforms.Compose([\n",
        "        transforms.Resize(256),\n",
        "        transforms.ToTensor(),\n",
        "        transforms.Normalize([0.485, 0.456, 0.406], [0.229, 0.224, 0.225])\n",
        "    ]),\n",
        "    'test': transforms.Compose([\n",
        "        transforms.Resize(256),\n",
        "        transforms.ToTensor(),\n",
        "        transforms.Normalize([0.485, 0.456, 0.406], [0.229, 0.224, 0.225])\n",
        "    ]),\n",
        "}\n",
        "\n",
        "\n",
        "# Load the 3 datasets using ImageFolder and apply transformations\n",
        "train_data = datasets.ImageFolder(train_dir, transform = data_transforms['train'])\n",
        "validation_data = datasets.ImageFolder(validation_dir, transform = data_transforms['valid'])\n",
        "test_data = datasets.ImageFolder(test_dir, transform = data_transforms['test'])"
      ]
    },
    {
      "cell_type": "code",
      "execution_count": null,
      "metadata": {
        "colab": {
          "base_uri": "https://localhost:8080/"
        },
        "id": "rJyQLVmnH7SG",
        "outputId": "c87c8ff8-b657-4ce7-faae-a66be4b5a95c"
      },
      "outputs": [
        {
          "output_type": "stream",
          "name": "stdout",
          "text": [
            "Number of training images:  70295\n",
            "Number of validation images:  17572\n",
            "Number of test images:  33\n"
          ]
        }
      ],
      "source": [
        "# define dataloader parameters\n",
        "batch_size  = 128\n",
        "num_workers = 0\n",
        "\n",
        "# prepare data loaders\n",
        "train_loader = torch.utils.data.DataLoader(train_data, batch_size=batch_size,\n",
        "                                           num_workers=num_workers, shuffle=True)\n",
        "val_loader = torch.utils.data.DataLoader(validation_data, batch_size=batch_size,\n",
        "                                          num_workers=num_workers, shuffle=True)\n",
        "test_loader = torch.utils.data.DataLoader(test_data, batch_size=batch_size,\n",
        "                                          num_workers=num_workers, shuffle=True)\n",
        "\n",
        "# Print the number of images in each set\n",
        "print( 'Number of training images: ', len(train_data))\n",
        "print( 'Number of validation images: ', len(validation_data))\n",
        "print( 'Number of test images: ', len(test_data))\n"
      ]
    },
    {
      "cell_type": "code",
      "source": [
        "# Initial simple model\n",
        "class CNN2(nn.Module):\n",
        "    def __init__(self):\n",
        "        super(CNN2, self).__init__()\n",
        "        self.name = \"CNN2\"\n",
        "        self.conv1 = nn.Conv2d(3, 16, kernel_size=6, stride=2)\n",
        "        self.conv2 = nn.Conv2d(16, 32, kernel_size=3, stride=2)\n",
        "        self.conv3 = nn.Conv2d(32, 64, kernel_size=3, stride=2)\n",
        "        self.conv4 = nn.Conv2d(64, 128, kernel_size=3, stride=2)\n",
        "        self.conv5 = nn.Conv2d(128, 256, kernel_size=3, stride=2)\n",
        "        self.conv6 = nn.Conv2d(256, 512, kernel_size=3, stride=2)\n",
        "\n",
        "        self.relu = nn.ReLU()\n",
        "        self.flatten = nn.Flatten()\n",
        "        self.fc = nn.Linear(2048, 38)\n",
        "\n",
        "    def forward(self, x):\n",
        "        x = self.relu(self.conv1(x))\n",
        "        x = self.relu(self.conv2(x))\n",
        "        x = self.relu(self.conv3(x))\n",
        "        x = self.relu(self.conv4(x))\n",
        "        x = self.relu(self.conv5(x))\n",
        "        x = self.relu(self.conv6(x))\n",
        "\n",
        "        x = self.flatten(x)\n",
        "        x = self.fc(x)\n",
        "\n",
        "        return x"
      ],
      "metadata": {
        "id": "bE-ZO0vi4Cii"
      },
      "execution_count": null,
      "outputs": []
    },
    {
      "cell_type": "code",
      "execution_count": null,
      "metadata": {
        "id": "BTZRNb04AW8K"
      },
      "outputs": [],
      "source": [
        "# Skip connections\n",
        "class CNN(nn.Module):\n",
        "    def __init__(self):\n",
        "        super(CNN, self).__init__()\n",
        "        self.name = \"CNN\"\n",
        "        self.conv1 = nn.Conv2d(3, 16, kernel_size=6, stride=2)\n",
        "        self.conv2 = nn.Conv2d(16, 32, kernel_size=3, stride=2)\n",
        "        self.conv3 = nn.Conv2d(32, 64, kernel_size=3, stride=2)\n",
        "        self.conv4 = nn.Conv2d(64, 128, kernel_size=3, stride=2)\n",
        "        self.conv5 = nn.Conv2d(128, 256, kernel_size=3, stride=2)\n",
        "        self.conv6 = nn.Conv2d(256, 512, kernel_size=3, stride=2)\n",
        "\n",
        "        self.relu = nn.ReLU()\n",
        "        self.dropout = nn.Dropout(p = 0.3)\n",
        "        self.flatten = nn.Flatten()\n",
        "        self.norm1 = nn.LayerNorm(3000)\n",
        "        self.norm2 = nn.LayerNorm(500)\n",
        "        self.fc1 = nn.Linear(2048, 3000)\n",
        "        self.fc2 = nn.Linear(3000, 500)\n",
        "        self.fc3 = nn.Linear(500, 38)\n",
        "\n",
        "    def forward(self, x):\n",
        "        self.skip_connections = []  # Reset the skip connections\n",
        "\n",
        "        # Convolutional layers with skip connections\n",
        "        x = self.conv1(x)\n",
        "        self.skip_connections.append(x)\n",
        "        x = self.relu(x)\n",
        "        x = self.conv2(x)\n",
        "        self.skip_connections.append(x)\n",
        "        x = self.relu(x)\n",
        "        x = self.conv3(x)\n",
        "        self.skip_connections.append(x)\n",
        "        x = self.relu(x)\n",
        "        x = self.conv4(x)\n",
        "        self.skip_connections.append(x)\n",
        "        x = self.relu(x)\n",
        "        x = self.conv5(x)\n",
        "        self.skip_connections.append(x)\n",
        "        x = self.relu(x)\n",
        "        x = self.conv6(x)\n",
        "        self.skip_connections.append(x)\n",
        "        x = self.relu(x)\n",
        "\n",
        "        # Flatten the tensor for fully connected layers\n",
        "        x = torch.flatten(x, start_dim=1)\n",
        "\n",
        "        # Fully connected layers\n",
        "        x = self.fc1(x)\n",
        "        x = self.relu(x)\n",
        "        x = self.norm1(x)\n",
        "        x = self.dropout(x)\n",
        "        x = self.fc2(x)\n",
        "        x = self.relu(x)\n",
        "        x = self.norm2(x)\n",
        "        x = self.dropout(x)\n",
        "        x = self.fc3(x)\n",
        "\n",
        "        return x"
      ]
    },
    {
      "cell_type": "code",
      "execution_count": null,
      "metadata": {
        "id": "cgyy8EbNqHpb"
      },
      "outputs": [],
      "source": [
        "def evaluate(net, loader, criterion):\n",
        "    \"\"\" Evaluate the network on the validation set.\n",
        "\n",
        "     Args:\n",
        "         net: PyTorch neural network object\n",
        "         loader: PyTorch data loader for the validation set\n",
        "         criterion: The loss function\n",
        "     Returns:\n",
        "         err: A scalar for the avg classification error over the validation set\n",
        "         loss: A scalar for the average loss function over the validation set\n",
        "     \"\"\"\n",
        "    total_loss = 0.0\n",
        "    for i, data in enumerate(loader, 0):\n",
        "        inputs, labels = data\n",
        "        if use_cuda and torch.cuda.is_available():\n",
        "              inputs = inputs.cuda()\n",
        "              labels = labels.cuda()\n",
        "        outputs = net(inputs)\n",
        "        loss = criterion(outputs, labels)\n",
        "        total_loss += loss.item()\n",
        "    loss = float(total_loss) / (i + 1)\n",
        "    return loss\n"
      ]
    },
    {
      "cell_type": "code",
      "execution_count": null,
      "metadata": {
        "id": "g3wO8NWAyouj"
      },
      "outputs": [],
      "source": [
        "def get_model_name(name, batch_size, learning_rate, epoch):\n",
        "    \"\"\" Generate a name for the model consisting of all the hyperparameter values\n",
        "\n",
        "    Args:\n",
        "        config: Configuration object containing the hyperparameters\n",
        "    Returns:\n",
        "        path: A string with the hyperparameter name and value concatenated\n",
        "    \"\"\"\n",
        "    path = \"model_{0}_bs{1}_lr{2}_epoch{3}\".format(name,\n",
        "                                                   batch_size,\n",
        "                                                   learning_rate,\n",
        "                                                   epoch)\n",
        "    return path"
      ]
    },
    {
      "cell_type": "code",
      "execution_count": null,
      "metadata": {
        "id": "6u5-PWb-qxSy"
      },
      "outputs": [],
      "source": [
        "#from tutorial 3a\n",
        "def get_accuracy(model, dataset_acc):\n",
        "    correct = 0\n",
        "    total = 0\n",
        "    for imgs, labels in dataset_acc:\n",
        "\n",
        "\n",
        "        #############################################\n",
        "        #To Enable GPU Usage\n",
        "        if use_cuda and torch.cuda.is_available():\n",
        "          imgs = imgs.cuda()\n",
        "          labels = labels.cuda()\n",
        "        #############################################\n",
        "\n",
        "\n",
        "        output = model(imgs)\n",
        "\n",
        "\n",
        "        #select index with maximum prediction score\n",
        "        pred = output.max(1, keepdim=True)[1]\n",
        "        correct += pred.eq(labels.view_as(pred)).sum().item()\n",
        "        total += imgs.shape[0]\n",
        "    return correct / total"
      ]
    },
    {
      "cell_type": "code",
      "execution_count": null,
      "metadata": {
        "id": "XerELH4xoa0I"
      },
      "outputs": [],
      "source": [
        "use_cuda = True\n",
        "\n",
        "def train_net(net, training_set, validation_set, batch_size=64, learning_rate=0.01, num_epochs=30, weight_decay = 0.001):\n",
        "    ########################################################################\n",
        "    # Fixed PyTorch random seed for reproducible result\n",
        "    torch.manual_seed(1000)\n",
        "    ########################################################################\n",
        "    # Obtain the PyTorch data loader objects to load batches of the datasets\n",
        "    train_loader = torch.utils.data.DataLoader(training_set, batch_size=batch_size, shuffle=True)\n",
        "    val_loader = torch.utils.data.DataLoader(validation_set, batch_size=batch_size, shuffle=True)\n",
        "    ########################################################################\n",
        "    # Define the Loss function and optimizer\n",
        "    # the neural network and scalar label.\n",
        "    criterion = nn.CrossEntropyLoss()\n",
        "    optimizer = optim.Adam(net.parameters(), lr= learning_rate, weight_decay = weight_decay)\n",
        "    ########################################################################\n",
        "    # Set up some numpy arrays to store the training/test loss/erruracy\n",
        "    training_loss = np.zeros(num_epochs)\n",
        "    val_loss = np.zeros(num_epochs)\n",
        "    training_acc = np.zeros(num_epochs)\n",
        "    validation_acc = np.zeros(num_epochs)\n",
        "    best_accuracy = 0.0\n",
        "    best_param = None\n",
        "    model_path = None\n",
        "    ########################################################################\n",
        "    # Train the network\n",
        "    # Loop over the data iterator and sample a new batch of training data\n",
        "    # Get the output from the network, and optimize our loss function.\n",
        "\n",
        "    for epoch in range(num_epochs):  # loop over the dataset multiple times\n",
        "        total_train_loss = 0.0\n",
        "        total_train_err = 0.0\n",
        "        total_epoch = 0\n",
        "        n = 0\n",
        "        for imgs, labels in iter(train_loader):\n",
        "            #############################################\n",
        "            #To Enable GPU Usage\n",
        "            if use_cuda and torch.cuda.is_available():\n",
        "              imgs = imgs.cuda()\n",
        "              labels = labels.cuda()\n",
        "            #############################################\n",
        "            out = net(imgs)             # forward pass\n",
        "            loss = criterion(out, labels) # compute the total loss\n",
        "            loss.backward()               # backward pass (compute parameter updates)\n",
        "            optimizer.step()              # make the updates for each parameter\n",
        "            optimizer.zero_grad()         # a clean up step for PyTorch\n",
        "            # Calculate the statistics\n",
        "            n += 1\n",
        "            total_train_loss += loss.item()\n",
        "            total_epoch += len(labels)\n",
        "        del imgs, labels\n",
        "        torch.cuda.empty_cache()\n",
        "        # track accuracy\n",
        "        training_acc[epoch] = get_accuracy(net, train_loader)\n",
        "        training_loss[epoch] = float(total_train_loss) / (n+1)\n",
        "        validation_acc[epoch] = get_accuracy(net, val_loader)\n",
        "        val_loss[epoch] = evaluate(net, val_loader, criterion)\n",
        "        print((\"Epoch {}: Training acc: {} |\" + \" Validation acc: {}\").format(epoch, training_acc[epoch], validation_acc[epoch]))\n",
        "        if validation_acc[epoch] > best_accuracy:\n",
        "          best_accuracy = validation_acc[epoch]\n",
        "          best_params = net.state_dict()  # Save the current model's parameters\n",
        "          model_path = get_model_name(net.name, batch_size, learning_rate, epoch)\n",
        "\n",
        "\n",
        "    torch.save(best_params, model_path)\n",
        "    print(\"best acc: \", best_accuracy)\n",
        "    epochs = np.arange(1, num_epochs + 1)\n",
        "    return epochs, training_acc, training_loss, validation_acc,  val_loss"
      ]
    },
    {
      "cell_type": "code",
      "execution_count": null,
      "metadata": {
        "id": "lZ36eQl4d0jd"
      },
      "outputs": [],
      "source": [
        "import matplotlib.pyplot as plt\n",
        "def plotting (epochs, train_acc, train_loss, val_acc, val_loss):\n",
        "  plt.title(\"Training Curve\")\n",
        "  plt.plot(epochs, train_acc, label=\"Train\")\n",
        "  plt.plot(epochs, val_acc, label=\"Validation\")\n",
        "  plt.xlabel(\"Epochs\")\n",
        "  plt.ylabel(\"Accuracy\")\n",
        "  plt.legend(loc='best')\n",
        "  plt.show()\n",
        "\n",
        "  plt.title(\"Losses Curve\")\n",
        "  plt.plot(epochs, train_loss, label=\"Train\")\n",
        "  plt.plot(epochs, val_loss, label=\"Validation\")\n",
        "  plt.xlabel(\"Epochs\")\n",
        "  plt.ylabel(\"Loss\")\n",
        "  plt.legend(loc='best')\n",
        "  plt.show()"
      ]
    },
    {
      "cell_type": "code",
      "source": [
        "# One way to sanity check our neural network model and training code is to\n",
        "# check whether the model is capable of “overfitting” or “memorizing” a small\n",
        "# dataset. A properly constructed CNN with correct training code should be able\n",
        "# to memorize the answers to a small number of images quickly.\n",
        "\n",
        "# We need to take a small ammount of the data (as 70000 is too big)\n",
        "# to test out the model and see if it overfits.\n",
        "# To do so, we will first store 7% of the data as trial_data, and then\n",
        "# split this 7% into train, validation, and test.\n",
        "\n",
        "data_location = root_folder\n",
        "\n",
        "from torchvision.datasets import ImageFolder\n",
        "\n",
        "transform = torchvision.transforms.Compose([\n",
        "    torchvision.transforms.ToTensor()\n",
        "])\n",
        "\n",
        "data = torchvision.datasets.ImageFolder(root=data_location, transform=transform)\n",
        "\n",
        "# Splitting the data (just for testing a small ammount now)\n",
        "train = int(0.05 * len(data))  #7% for now to slpit into trial_train, trial_test and trial_val\n",
        "validation = int(0.8 * len(data))\n",
        "test = len(data) - train - validation\n",
        "\n",
        "trial_data, val_data, test_data = torch.utils.data.random_split(\n",
        "    data, [train, validation, test], generator=torch.Generator().manual_seed(1000)\n",
        ")\n",
        "\n",
        "# now split the 7% we got into train, val and test for mini trial run\n",
        "train = int(0.7 * len(trial_data))\n",
        "validation = int(0.15 * len(trial_data))\n",
        "test = len(trial_data) - train - validation\n",
        "\n",
        "trial_train, trial_val, trial_test = torch.utils.data.random_split(\n",
        "    trial_data, [train, validation, test], generator=torch.Generator().manual_seed(1000)\n",
        ")\n",
        "\n",
        "# Printing the ammount of data in each set to verify and visualize the splitting\n",
        "print(\"Trial train size is:\", len(trial_train))\n",
        "print(\"Trial validation size is:\", len(trial_val))\n",
        "print(\"Trial test size is:\", len(trial_test))"
      ],
      "metadata": {
        "id": "BcMf_4TF3fdi"
      },
      "execution_count": null,
      "outputs": []
    },
    {
      "cell_type": "code",
      "source": [
        "overfit_model = CNN2()\n",
        "if use_cuda and torch.cuda.is_available():\n",
        "  overfit_model.cuda()\n",
        "\n",
        "train_net(overfit_model, trial_train, trial_val, num_epochs=200, batch_size=128, learning_rate=0.001)"
      ],
      "metadata": {
        "id": "d77DkItW31fz"
      },
      "execution_count": null,
      "outputs": []
    },
    {
      "cell_type": "code",
      "execution_count": null,
      "metadata": {
        "id": "mZLr32vPDhcK"
      },
      "outputs": [],
      "source": [
        "#Now test with skip connections\n",
        "\n",
        "skip_model = CNN()\n",
        "if use_cuda and torch.cuda.is_available():\n",
        "  skip_model.cuda()\n",
        "\n",
        "train_net(skip_model, train_data , validation_data , num_epochs=50, batch_size= 128, learning_rate=0.001)"
      ]
    },
    {
      "cell_type": "code",
      "source": [
        "# Now run actual model with the following parameters\n",
        "\n",
        "kip_model = CNN()\n",
        "if use_cuda and torch.cuda.is_available():\n",
        "  skip_model.cuda()\n",
        "\n",
        "epochs, training_acc, training_loss, validation_acc,  val_loss  = train_net(skip_model, train_data , validation_data , num_epochs=28, batch_size= 128, learning_rate=0.001)"
      ],
      "metadata": {
        "id": "zXfWbnod4OmS"
      },
      "execution_count": null,
      "outputs": []
    },
    {
      "cell_type": "code",
      "source": [
        "# Now run but with different augmentation probability.\n",
        "\n",
        "# run with the augmentation probability to be 40%\n",
        "\n",
        "# same function but with updated probability\n",
        "def three_data_augmentations_function(image): # ADD GREY BLOCK, APPLY RANDOM OR CENTER CROP, OR NONE\n",
        "    rand_num1 = round(random.random(), 3)\n",
        "    if (rand_num1 < 0.1): # ADD GREY BLOCK\n",
        "        block_size = 50    # Adjust the block size as desired\n",
        "        height, width = image.size[1], image.size[0]\n",
        "        x = torch.randint(0, width - block_size, (1,))\n",
        "        y = torch.randint(0, height - block_size, (1,))\n",
        "\n",
        "        # Apply paste operation on the input image\n",
        "        image.paste((128, 128, 128), (x.item(), y.item(), x.item() + block_size, y.item() + block_size))\n",
        "        return image\n",
        "\n",
        "    elif (0.1 <= rand_num1 < 0.2):  # APPLY RANDOM CROP\n",
        "        return transforms.RandomCrop(size=180)(image)\n",
        "\n",
        "    elif (0.2 <= rand_num1 < 0.3):  # APPLY CENTER CROP\n",
        "        return transforms.CenterCrop(size=180)(image)\n",
        "    return image\n",
        "\n",
        "# Define the transformation to add Gaussian noise\n",
        "def add_gaussian_noise(image):\n",
        "    mean = 0.0\n",
        "    std = 0.9  # Adjust the standard deviation as desired\n",
        "    rand_num2 = round(random.random(), 3)\n",
        "    if rand_num2 < 0.1:\n",
        "      noise = torch.randn_like(image) * std + mean\n",
        "      noisy_image = torch.clamp(image + noise, min=0.0, max=1.0)\n",
        "      return noisy_image\n",
        "    return image\n",
        "\n",
        "# Define the transformations to be applied to the images\n",
        "data_transforms = {\n",
        "    'train': transforms.Compose([\n",
        "        transforms.Lambda(three_data_augmentations_function),\n",
        "        transforms.Resize(256),\n",
        "        transforms.ToTensor(),\n",
        "        transforms.Normalize([0.485, 0.456, 0.406], [0.229, 0.224, 0.225]),\n",
        "        transforms.Lambda(add_gaussian_noise),\n",
        "\n",
        "        # Add other transformations if desired\n",
        "        # transforms.RandomResizedCrop(224),\n",
        "        # transforms.ColorJitter(brightness=0.4, contrast=0.4, saturation=0.4),\n",
        "        # transforms.RandomHorizontalFlip(),\n",
        "        # transforms.RandomRotation(30),\n",
        "    ]),\n",
        "    'valid': transforms.Compose([\n",
        "        transforms.Resize(256),\n",
        "        transforms.ToTensor(),\n",
        "        transforms.Normalize([0.485, 0.456, 0.406], [0.229, 0.224, 0.225])\n",
        "    ]),\n",
        "    'test': transforms.Compose([\n",
        "        transforms.Resize(256),\n",
        "        transforms.ToTensor(),\n",
        "        transforms.Normalize([0.485, 0.456, 0.406], [0.229, 0.224, 0.225])\n",
        "    ]),\n",
        "}\n",
        "\n",
        "\n",
        "# Load the 3 datasets using ImageFolder and apply transformations\n",
        "train_data = datasets.ImageFolder(train_dir, transform = data_transforms['train'])\n",
        "validation_data = datasets.ImageFolder(validation_dir, transform = data_transforms['valid'])\n",
        "test_data = datasets.ImageFolder(test_dir, transform = data_transforms['test'])"
      ],
      "metadata": {
        "id": "G0YF4MVl4gLF"
      },
      "execution_count": null,
      "outputs": []
    },
    {
      "cell_type": "code",
      "source": [
        "skip_model = CNN()\n",
        "if use_cuda and torch.cuda.is_available():\n",
        "  skip_model.cuda()\n",
        "\n",
        "epochs, training_acc, training_loss, validation_acc,  val_loss  = train_net(skip_model, train_data , validation_data , num_epochs=28, batch_size= 128, learning_rate=0.001)"
      ],
      "metadata": {
        "id": "cnyY_ndv4xqw"
      },
      "execution_count": null,
      "outputs": []
    },
    {
      "cell_type": "code",
      "execution_count": null,
      "metadata": {
        "id": "umghXndFWcF1",
        "colab": {
          "base_uri": "https://localhost:8080/"
        },
        "outputId": "a1e8fd4c-8cf5-4cac-e875-b9ae657c4bc9"
      },
      "outputs": [
        {
          "output_type": "stream",
          "name": "stdout",
          "text": [
            "Epoch 0: Training acc: 0.5655309765986201 | Validation acc: 0.5948099248804917\n",
            "Epoch 1: Training acc: 0.7492993811793157 | Validation acc: 0.7735033007056681\n",
            "Epoch 2: Training acc: 0.8108400312966783 | Validation acc: 0.8272251308900523\n",
            "Epoch 3: Training acc: 0.8479977238779429 | Validation acc: 0.8647848850443888\n",
            "Epoch 4: Training acc: 0.8731915498968632 | Validation acc: 0.8851012975187799\n",
            "Epoch 5: Training acc: 0.888740308699054 | Validation acc: 0.8968814022308218\n",
            "Epoch 6: Training acc: 0.8924674585674657 | Validation acc: 0.8891418165262919\n",
            "Epoch 7: Training acc: 0.9016715271356427 | Validation acc: 0.9050193489642613\n",
            "Epoch 8: Training acc: 0.8983711501529269 | Validation acc: 0.8989301160937856\n",
            "Epoch 9: Training acc: 0.8909879792303862 | Validation acc: 0.886922376508081\n",
            "Epoch 10: Training acc: 0.9219716907319155 | Validation acc: 0.9243683132255862\n",
            "Epoch 11: Training acc: 0.9152002276122057 | Validation acc: 0.9150921921238334\n",
            "Epoch 12: Training acc: 0.9120990113094815 | Validation acc: 0.9107102208058274\n",
            "Epoch 13: Training acc: 0.9308201152286791 | Validation acc: 0.9304575460960619\n",
            "Epoch 14: Training acc: 0.9324560779571804 | Validation acc: 0.9343842476667426\n",
            "Epoch 15: Training acc: 0.9348744576427911 | Validation acc: 0.9304006373776462\n",
            "Epoch 16: Training acc: 0.9483747065936411 | Validation acc: 0.9420669246528568\n"
          ]
        }
      ],
      "source": [
        "# Now run actual model but with batch size 256\n",
        "\n",
        "skip_model = CNN()\n",
        "if use_cuda and torch.cuda.is_available():\n",
        "  skip_model.cuda()\n",
        "\n",
        "epochs, training_acc, training_loss, validation_acc,  val_loss  = train_net(skip_model, train_data , validation_data , num_epochs=25, batch_size= 256, learning_rate=0.001)\n"
      ]
    },
    {
      "cell_type": "code",
      "source": [
        "plotting(epochs, training_acc, training_loss, validation_acc,  val_loss)"
      ],
      "metadata": {
        "colab": {
          "base_uri": "https://localhost:8080/",
          "height": 927
        },
        "id": "_txInfIyGOL9",
        "outputId": "226d2416-3073-431f-a46a-4826c90539c9"
      },
      "execution_count": null,
      "outputs": [
        {
          "output_type": "display_data",
          "data": {
            "text/plain": [
              "<Figure size 640x480 with 1 Axes>"
            ],
            "image/png": "[encoded data removed]"
          },
          "metadata": {}
        },
        {
          "output_type": "display_data",
          "data": {
            "text/plain": [
              "<Figure size 640x480 with 1 Axes>"
            ],
            "image/png": "[encoded data removed]"
          },
          "metadata": {}
        }
      ]
    }
  ],
  "metadata": {
    "colab": {
      "provenance": [],
      "gpuType": "T4"
    },
    "kernelspec": {
      "display_name": "Python 3",
      "name": "python3"
    },
    "language_info": {
      "name": "python"
    },
    "accelerator": "GPU"
  },
  "nbformat": 4,
  "nbformat_minor": 0
}